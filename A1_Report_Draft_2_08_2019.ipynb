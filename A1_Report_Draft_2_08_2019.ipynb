{
  "nbformat": 4,
  "nbformat_minor": 0,
  "metadata": {
    "colab": {
      "name": "A1 Report Draft 2/08/2019.ipynb",
      "version": "0.3.2",
      "provenance": [],
      "collapsed_sections": [],
      "include_colab_link": true
    },
    "kernelspec": {
      "name": "python3",
      "display_name": "Python 3"
    }
  },
  "cells": [
    {
      "cell_type": "markdown",
      "metadata": {
        "id": "view-in-github",
        "colab_type": "text"
      },
      "source": [
        "<a href=\"https://colab.research.google.com/github/osnapitstrix/UTS_ML2019_ID13205669/blob/master/A1_Report_Draft_2_08_2019.ipynb\" target=\"_parent\"><img src=\"https://colab.research.google.com/assets/colab-badge.svg\" alt=\"Open In Colab\"/></a>"
      ]
    },
    {
      "cell_type": "code",
      "metadata": {
        "id": "60bEdraAUmE7",
        "colab_type": "code",
        "colab": {}
      },
      "source": [
        "PLAN: -CHOOSE ARTICLE - LONG TERM MEMORY, INFERENCE OR SUPPORT VECTOR NETWORKS\n",
        "  \n",
        "  August 11 - Plan\n",
        "  August 13 - Plan 2\n",
        "  August 24 - Draft 1\n",
        "  August 26 - Draft 2\n",
        "  August 27 - Finalising points\n",
        "  August 28 - Quick touches and submit report  "
      ],
      "execution_count": 0,
      "outputs": []
    },
    {
      "cell_type": "markdown",
      "metadata": {
        "id": "tEr6ZWLsVHet",
        "colab_type": "text"
      },
      "source": [
        "Title:"
      ]
    },
    {
      "cell_type": "markdown",
      "metadata": {
        "id": "TpkerNokVL-E",
        "colab_type": "text"
      },
      "source": [
        "Introduction:"
      ]
    },
    {
      "cell_type": "markdown",
      "metadata": {
        "id": "4JmgeKMFVYun",
        "colab_type": "text"
      },
      "source": [
        "Content:"
      ]
    },
    {
      "cell_type": "markdown",
      "metadata": {
        "id": "Slu9L4hVVZfR",
        "colab_type": "text"
      },
      "source": [
        "Innovation:"
      ]
    },
    {
      "cell_type": "markdown",
      "metadata": {
        "id": "2zbHxCPwVaVt",
        "colab_type": "text"
      },
      "source": [
        "Technical Quality:"
      ]
    },
    {
      "cell_type": "markdown",
      "metadata": {
        "id": "jlO8xFRNVb5z",
        "colab_type": "text"
      },
      "source": [
        "Application and X-Factor:"
      ]
    },
    {
      "cell_type": "markdown",
      "metadata": {
        "id": "A94JqE0ZVeD7",
        "colab_type": "text"
      },
      "source": [
        "Presentation:"
      ]
    },
    {
      "cell_type": "markdown",
      "metadata": {
        "id": "8ujhi3mCVfDR",
        "colab_type": "text"
      },
      "source": [
        "References:"
      ]
    }
  ]
}