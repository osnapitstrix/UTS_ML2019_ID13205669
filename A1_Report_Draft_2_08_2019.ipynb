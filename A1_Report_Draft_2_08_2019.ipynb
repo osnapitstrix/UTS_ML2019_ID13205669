{
  "nbformat": 4,
  "nbformat_minor": 0,
  "metadata": {
    "colab": {
      "name": "A1 Report Draft 2/08/2019.ipynb",
      "version": "0.3.2",
      "provenance": [],
      "collapsed_sections": [],
      "include_colab_link": true
    },
    "kernelspec": {
      "name": "python3",
      "display_name": "Python 3"
    }
  },
  "cells": [
    {
      "cell_type": "markdown",
      "metadata": {
        "id": "view-in-github",
        "colab_type": "text"
      },
      "source": [
        "<a href=\"https://colab.research.google.com/github/osnapitstrix/UTS_ML2019_ID13205669/blob/master/A1_Report_Draft_2_08_2019.ipynb\" target=\"_parent\"><img src=\"https://colab.research.google.com/assets/colab-badge.svg\" alt=\"Open In Colab\"/></a>"
      ]
    },
    {
      "cell_type": "code",
      "metadata": {
        "id": "60bEdraAUmE7",
        "colab_type": "code",
        "colab": {}
      },
      "source": [
        "\n",
        "Draft and Experiment Area\n",
        "First impression\n",
        "\n",
        "What is my chosen paper to read?\n",
        "What type of the main contribution the paper has made?\n",
        "\n",
        "A theory or proposition (revealing something, from unknown to known)\n",
        "A method or algorithm (inventing a technique, from undoable to doable)\n",
        "Before reading the main body of the paper, write down your first impression obtained from its abstract and short introduction.\n",
        "\n",
        "Why does the paper attract you, such as, How it surprised you? Why do you think it addresses an important topic that will be helpful in your future study of machine learning?\n",
        "Read the paper abstract and introduction, list here all the notions that you don't know the precise meaning. If you think you have completed your list, compare the list with people around you who have chosen the same or a similar paper.\n",
        "\n",
        "(During the next 7 days) Re-consider the central problem of the paper.\n",
        "\n",
        "Review Report on \"PaperName\"\n",
        "Introduction\n",
        "Content\n",
        "The research is about .... A theorem has been proved stating ... / An algorithm of ... has been proposed.\n",
        "\n",
        "Innovation\n",
        "The background at the time of the work is that people understood the problem as .... The creative idea is ...\n",
        "\n",
        "Technical quality\n",
        "The technical development if of high/low quality. The authors supported their theory using ...\n",
        "\n",
        "Application and X-factor\n",
        "I find the proposal in the paper promising. ...\n",
        "\n",
        "Presentation\n",
        "The overall strucutre is clear. I found reading is easy / difficult. The paper could have been more attractive if the authors had organised ... / provided ...\n",
        "\n",
        "References\n",
        "SHA48: Author, Title, Info"
      ],
      "execution_count": 0,
      "outputs": []
    },
    {
      "cell_type": "markdown",
      "metadata": {
        "id": "tEr6ZWLsVHet",
        "colab_type": "text"
      },
      "source": [
        "Title:"
      ]
    },
    {
      "cell_type": "markdown",
      "metadata": {
        "id": "TpkerNokVL-E",
        "colab_type": "text"
      },
      "source": [
        "Introduction:"
      ]
    },
    {
      "cell_type": "markdown",
      "metadata": {
        "id": "4JmgeKMFVYun",
        "colab_type": "text"
      },
      "source": [
        "Content:"
      ]
    },
    {
      "cell_type": "markdown",
      "metadata": {
        "id": "Slu9L4hVVZfR",
        "colab_type": "text"
      },
      "source": [
        "Innovation:"
      ]
    },
    {
      "cell_type": "markdown",
      "metadata": {
        "id": "2zbHxCPwVaVt",
        "colab_type": "text"
      },
      "source": [
        "Technical Quality:"
      ]
    },
    {
      "cell_type": "markdown",
      "metadata": {
        "id": "jlO8xFRNVb5z",
        "colab_type": "text"
      },
      "source": [
        "Application and X-Factor:"
      ]
    },
    {
      "cell_type": "markdown",
      "metadata": {
        "id": "A94JqE0ZVeD7",
        "colab_type": "text"
      },
      "source": [
        "Presentation:"
      ]
    },
    {
      "cell_type": "markdown",
      "metadata": {
        "id": "8ujhi3mCVfDR",
        "colab_type": "text"
      },
      "source": [
        "References:"
      ]
    }
  ]
}