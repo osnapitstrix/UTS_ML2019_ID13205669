{
  "nbformat": 4,
  "nbformat_minor": 0,
  "metadata": {
    "colab": {
      "name": "A1 First Report Draft 25/08/2019.ipynb",
      "version": "0.3.2",
      "provenance": [],
      "collapsed_sections": [],
      "include_colab_link": true
    },
    "kernelspec": {
      "name": "python3",
      "display_name": "Python 3"
    }
  },
  "cells": [
    {
      "cell_type": "markdown",
      "metadata": {
        "id": "view-in-github",
        "colab_type": "text"
      },
      "source": [
        "<a href=\"https://colab.research.google.com/github/osnapitstrix/UTS_ML2019_ID13205669/blob/master/A1_First_Report_Draft_25_08_2019.ipynb\" target=\"_parent\"><img src=\"https://colab.research.google.com/assets/colab-badge.svg\" alt=\"Open In Colab\"/></a>"
      ]
    },
    {
      "cell_type": "code",
      "metadata": {
        "id": "60bEdraAUmE7",
        "colab_type": "code",
        "colab": {}
      },
      "source": [
        "\n",
        "Draft and Experiment Area\n",
        "First impression\n",
        "\n",
        "Review Report on \"Eigenfaces vs. Fisherfaces: Recognition Using Class Specific Linear Projection\"\n",
        "Introduction\n",
        "\n",
        "Content\n",
        "\n",
        "The research is about algorithms/methods for facial recognition. So far there has been discoveries under small variations in lighting, facial expression. This paper not only research including light variations but also direction and number of light sources by comparing two different methods: Eigenfaces and Fisherfaces method.\n",
        "The main problem in this paper is identifying each person in the test image when given a learning and test set.\n",
        "-The approach of the problem is to consider the image in a high dimensional space\n",
        "-the authors discovered that the Fisherface results were the best for facial recognition.\n",
        "-Linear Substpace is also good but is not the best mehtod for variation in facial expression.\n",
        "-Eigenface technique had more error rates for the Harvard and Yale databases.\n",
        "\n",
        "\n",
        "Innovation\n",
        "-The creative idea is that they want to representing images of an object under all possible illumination conditions. \n",
        "The authors supported their theory using \n",
        "-comparison of 4 methods for facial recognition under variation in lighting and facial expression\n",
        "-with this comparison, they use both Harvard and Yale database.\n",
        "-with these methods(Correlation, Principal Components Analysis, Lambertian, linear subspace, fisher's linear discriminant) they have provided advantages and disadvantages\n",
        "-once an equation is defined, explanations are given to understand what the symbols mean\n",
        "-provided experemental results using the two different datbases\n",
        "-provided diagrams to prove their results\n",
        "\n",
        "\n",
        "Technical quality\n",
        "The technical development of this paper is high quality. \n",
        "-they compared the 4 methods using not only the Harvard database but also the Yale datbase\n",
        "-the eigenface method uses PCA to align the data andd evaluate the mean to align each image\n",
        "-the fisherface uses fisher linear discriminant to reduce dimensionality => dimensionality is an unsupervised learning type = rtrending in data analytics\n",
        "-the fisherface and eigenmanned uses unsuperviseda nd supervised methods\n",
        "-the images were done in different experimental types (extrapolation, interpolation and leaving one out) => separated into 5 subset\n",
        "\n",
        "Application and X-factor\n",
        "I find the proposal in the paper promising because \n",
        "-there are interesting results witihin the two experiments\n",
        "-the authors also explained the benefits and consequences of the \n",
        "-facial recognition is common these days like the iPhone X without touchID\n",
        "=> it has numerous important application and is used in neuroscience, psuchology, machine learning , pattern reconition and computer vision\n",
        "-interesting because the fisherface method is an enhancement of the eigenface method => which means that it has the bas of eigenface method\n",
        "-improve the research by trying different kind of angle image to improve chances of reconising the face drastically\n",
        "\n",
        "                    \n",
        "Presentation\n",
        "The overall strucutre is clear. I found reading is easy and each section had a logical order. There was also pictures that were labelled to support the results and explanations in the report.\n",
        "                                     \n",
        "Draft 2: AUGUST 13\n",
        "\n",
        "Review Report on \"Eigenfaces vs. Fisherfaces: Recognition Using Class Specific Linear Projection\"\n",
        "\n",
        "Content:\n",
        "The research is about algorithms/methods for facial recognition. So far there has been discoveries under small variations in lighting, facial expression. This paper not only research including light variations but also direction and number of light sources by comparing two different methods: Eigenfaces and Fisherfaces method.\n",
        "The main problem in this paper is identifying each person in the test image when given a learning and test set.\n",
        "-The approach of the problem is to consider the image in a high dimensional space\n",
        "-the authors discovered that the Fisherface results were the best for facial recognition.\n",
        "-Linear Substpace is also good but is not the best mehtod for variation in facial expression.\n",
        "-Eigenface technique had more error rates for the Harvard and Yale databases.\n",
        "\n",
        "Innovation:\n",
        "-Novelty: a new approach for face recognition—one that is insensitive to large variations in lighting and facial expressions. Yet, no claim is made about the relative performance of these algorithms on much larger databases.\n",
        "-The creative idea is that they want to representing images of an object under all possible illumination conditions. \n",
        "The authors supported their theory using \n",
        "-comparison of 4 methods for facial recognition under variation in lighting and facial expression\n",
        "-with this comparison, they use both Harvard and Yale database.\n",
        "-with these methods(Correlation, Principal Components Analysis, Lambertian, linear subspace, fisher's linear discriminant) they have provided advantages and disadvantages\n",
        "-once an equation is defined, explanations are given to understand what the symbols mean\n",
        "-provided experimental results using the two different databases\n",
        "-provided diagrams to prove their results\n",
        "\n",
        "\n",
        "Technical quality:\n",
        "The technical development of this paper is high quality.\n",
        "-Research design: non experimental with the 2 databases and comparison of the 4 methods => includes different conditions(lighting variables)\n",
        "-Validity and reliability: consistent => both database images were tested in the same light conditions\n",
        "-however the harvard database uses more images (330) compared to the Yale database with (160 images).\n",
        "-> this didn’t affect the fisherface method as they both contained lower error rates than the other 3 methods\n",
        "-the eigenface method uses PCA to align the data and evaluate the mean to align each image\n",
        "-the fisherface uses fisher linear discriminant to reduce dimensionality => dimensionality is an unsupervised learning type = trending in data analytics\n",
        "-the fisherface and eigenface uses unsupervised and supervised methods\n",
        "-the images were done in different experimental types (extrapolation, interpolation and leaving one out) => separated into 5 subset\n",
        "-article was published 1996 and was revised in 1997\n",
        "-high dependability => the researcher gives the reader sufficient information to determine  how dependable the researcher is => -The authors are qualified and are experts in this area especially David J. Kriegman who has written and research articles/papers on an object under variable illumination received awards and recognition.\n",
        "-researchers demonstrated how conclusions and interpretations have been reached and how they have been clearly derived from the data\n",
        "\n",
        "\n",
        "Application and X-factor:\n",
        "-Interesting: This observation of linear subspaces suggests a simple classification algorithm to recognize Lambertian surfaces—insensitive to a wide range of lighting conditions.\n",
        "-I find the proposal in the paper promising because \n",
        "-there are interesting results witihin the two experiments\n",
        "-the authors also explained the benefits and consequences of the \n",
        "-facial recognition is common these days like the iPhone X without touchID\n",
        "=> it has numerous important application and is used in neuroscience, psuchology, machine learning , pattern reconition and computer vision\n",
        "-interesting because the fisherface method is an enhancement of the eigenface method => which means that it has the bas of eigenface method\n",
        "-improve the research by trying different kind of angle image to improve chances of recognising the face drastically\n",
        "\n",
        "\n",
        "Presentation:\n",
        "-The overall structure is clear and grammatically correct.\n",
        "-discussion flows logically and related to the topic\n",
        "-There was also pictures that were labelled to support the results and explanations in the report.\n",
        "-strengths and limitations of findings are mentioned and considered in the paper\n",
        "-the authors have included accurate lists of reports, journal articles and other works\n",
        "-the authors involve an examination of the different methods in the conclusion\n",
        "-the authors present their findings under the headings of the various light conditions \n",
        "-tables, charts, graphs are used to summarise the results as well as enhance the presentation of the results\n",
        "=The literature review defines the research question of which is the best method for facial recognition under various conditions.\n",
        "-It demonstrates an appropriate of paragraphs explaining the the topic.\n",
        "-It includes historical and contemporary material => historical (starting with Robert Fisher who developed the Fisherface method in 1936)               "
      ],
      "execution_count": 0,
      "outputs": []
    },
    {
      "cell_type": "code",
      "metadata": {
        "id": "k1VhBXGF_QPi",
        "colab_type": "code",
        "colab": {}
      },
      "source": [
        ""
      ],
      "execution_count": 0,
      "outputs": []
    },
    {
      "cell_type": "markdown",
      "metadata": {
        "id": "RVeQEc0__VZq",
        "colab_type": "text"
      },
      "source": [
        "Review Report on \"Eigenfaces vs. Fisherfaces: Recognition Using Class Specific Linear Projection\"\n",
        "\n",
        "Introduction\n",
        "\n",
        "Facial recognition is regarded as an emerging technology in the data analytics industry that is used by businesses and individuals. For each facial recognition method discussed, advantages and disadvantages have been stated to support the author’s conclusion on which is the best facial recognition method for the lighting conditions.\n",
        "\n",
        "This report presents a literature review of facial recognition methods in various conditions. The article selected for evaluation is &quot;Eigenfaces vs. Fisherfaces: Recognition Using Class Specific Linear Projection&quot; by Belhumeur et.al (1996)."
      ]
    },
    {
      "cell_type": "markdown",
      "metadata": {
        "id": "BujuBvsqAaew",
        "colab_type": "text"
      },
      "source": [
        "CONTENT\n",
        "\n",
        "The paper involves research about algorithms and methods for facial recognition under various lighting conditions and facial expressions.‘Numerous algorithms have been proposed for facial\n",
        "recognition…recognition under more extreme variations have proven elusive.’(Belhumeur et.al 1996). This paper described a new approach for facial recognition by including direction and\n",
        "number of light sources.\n",
        "\n",
        "The image sample size is from the Harvard Robotics Laboratory and Yale Centre for Computational Vision and Control databases which were used for different purposes. The Harvard\n",
        "Robotics Laboratory database was used to test the hypothesis of the facial recognition algorithms\n",
        "performing ‘better if they exploit the fact that images of a Lambertian surface lie in a linear\n",
        "subspace.’ (Belhumeur et.al 1996) in systematically varied lighting. For the Harvard sample, the\n",
        "images include the same facial expression and are taken with a ‘dominant light source… sampled\n",
        "in 15 degree increments’. (Belhumeur et.al 1996). On the other hand, the Yale Centre for\n",
        "Computational Vision and Control database was used to ‘determine how the methods compared\n",
        "under a different range of conditions.’ For this sample dataset, the subjects had neutral facial\n",
        "expression lie the Harvard database, option of glasses or not and different facial expressions. The\n",
        "images were also taken with ‘different point light sources’. These images were tested using four\n",
        "pattern classification techniques namely correlation, Eigenface, linear subspaces and Fisherfaces.\n",
        "These images were tested using four pattern classification techniques namely correlation,\n",
        "Eigenface, linear subspaces and Fisherfaces. Correlation is the ‘simplest classification scheme’\n",
        "where distances are measured. Eigenface is a method that ‘linearly projects the image space to a\n",
        "low dimensional feature space’. Linear subspace is a method where a person can ‘simply compute\n",
        "the distance of a new image.. and choose the face corresponding to the shortest distance’. The\n",
        "Fisherface method is a classical pattern recognition technique used to ‘ ‘shape’ the scatter in order\n",
        "to make it more reliable for classificaiton.’ (Belhumeur et.al 1996).\n",
        "\n",
        "“The problem can be simply stated: Given a set of face images labeled with the person’s identity\n",
        "(the learning set) and an unlabelled set of face images from the same group of people (the test\n",
        "set), identify each person in the test images.” (Belhumeur et.al 1996). After testing it in various\n",
        "conditions, the authors discovered that the Fisherface error rates results were the lowest\n",
        "compared to the other methods making it the best for facial recognition. Linear Subspace is also\n",
        "suitable but is not the best method for variation in facial expression. Eigenface technique had\n",
        "more error rates for both databases."
      ]
    },
    {
      "cell_type": "markdown",
      "metadata": {
        "id": "Slu9L4hVVZfR",
        "colab_type": "text"
      },
      "source": [
        "INNOVATION\n",
        "\n",
        "The topic in the paper is highly innovative as it is used in various applications like security and\n",
        "machine learning today. The novelty presented in the paper is the author’s new approach for facial\n",
        "recognition “one that is insensitive to large variations in lighting and facial\n",
        "expressions.”(Belhumeur et.al 1996). Another novelty of this paper is creating the sample images\n",
        "for the Yale database. The authors were able to be creative and experiment with different lighting\n",
        "source and facial expressions without affecting the sample dataset results from the Harvard database. The paper contributes a new method/theory of facial recognition in which the authors\n",
        "use the Harvard and Yale database to compare correlation of nearest neighbour classifier, linear subspace, Eigenface and Fisherface methods under variation in lighting and facial expression.\n",
        "\n",
        "The authors have provided a balanced view to the correlations, principal components analysis,\n",
        "linear subspace and fisher’s linear discriminant methods. However, the research of this paper is\n",
        "not up to date when compared to this year (2019) as the article wasn’t published recently but at\n",
        "the year of 1996, this research is considered innovative as there was no claim of the relative\n",
        "approaches for different lighting conditions and facial expressions. There has also been various\n",
        "recent articles in which the authors have focused on analysis one of the facial recognition\n",
        "methods. Facial recognition is an ongoing trend in the image processing and recognition industry\n",
        "and recent technology advancements are used to improve the image recognition process."
      ]
    },
    {
      "cell_type": "markdown",
      "metadata": {
        "id": "2zbHxCPwVaVt",
        "colab_type": "text"
      },
      "source": [
        "TECHNICAL QUALITY:\n",
        "\n",
        "The technical development of this paper is of high quality. Even the article was revised again in\n",
        "1997, the article had no apparent errors. The authors of this article not only used research from\n",
        "other reliable databases but have given the reader sufficient information on the topic. The authors\n",
        "are highly qualified experts in this area, especially David J. Kriegman, who has written and\n",
        "research articles/papers on an object under variable illumination conditions, received awards and\n",
        "recognition. To help explain the different methods, they have provided equations with explanations\n",
        "to give the reader an understanding of what these symbols mean. The third section of the report is\n",
        "the experimental results done with the methods and database. The authors have supported these\n",
        "results with diagrams and tables to prove their points that the Fisherface method is the best for\n",
        "facial recognition. They also demonstrated how they reached their conclusions and interpretations\n",
        "with their diagrams and tables represented in the results and conclusion section of the report. The\n",
        "type of data analytics that the authors have used is descriptive as they came up with a\n",
        "methodology for uncovering image processing and patterns for facial recognition that can\n",
        "eventually add value to any organisation.\n"
      ]
    },
    {
      "cell_type": "markdown",
      "metadata": {
        "id": "jlO8xFRNVb5z",
        "colab_type": "text"
      },
      "source": [
        "APPLICATION AND X-FACTOR\n",
        "\n",
        "The article uses the application domain of advanced image pattern recognition and machine\n",
        "intelligence which are both trending topics for the data analytics industry. These techniques have\n",
        "numerous important applications and is used in the neuroscience, psychology and computer vision\n",
        "industry. A way to improve the research is trying different kinds of angle to improve the chances of\n",
        "recognising the face better. The authors have also claimed that there is no report about ‘the\n",
        "relative performance of these algorithms on much larger databases’. (Belhumeur et.al 1996). If a\n",
        "researcher discovers the relative performance of these algorithms, it can improve image\n",
        "recognition and spark discussion between data science enthusiasts.\n",
        "\n",
        "The article presents interesting results for both Harvard and Yale databases. The extrapolation\n",
        "experiment using the Harvard sample had a 0% error rate in subset 1 and lower error percentage\n",
        "when there is higher number of reduced space evidenced in Figure 5. The interpolation\n",
        "experiment shows no error rate for subset 1 and 5. Like the extrapolation experiment, the higher\n",
        "number of reduced space showed a smaller error rate and Fisherface method was proven the best\n",
        "method with little to no error rate percentage. The Yale database however did not use the\n",
        "extrapolation and interpolation method and use a different method called “leaving-out-one”\n",
        "strategy. Again, the Fisherface method was proven the best method compared to the other three\n",
        "methods discussed. The authors have also expressed their interests of this topic by leaving\n",
        "questions for the reader in the conclusion of the paper which makes the reader also curious or\n",
        "think if the question is actually possible."
      ]
    },
    {
      "cell_type": "markdown",
      "metadata": {
        "id": "A94JqE0ZVeD7",
        "colab_type": "text"
      },
      "source": [
        "PRESENTATION\n",
        "\n",
        "Overall the structure of the paper is clear and grammatically correct. The literature review defines\n",
        "the research questions of which the best method for facial recognition under various angle and\n",
        "lighting conditions. For each method, they provided their findings under the heading of the various\n",
        "lighting conditions which made reading easier to follow. The authors also had labelled pictures,tables, graphs, charts to support the results and enhance the presentation of the report. The strengths and weaknesses of each method were mentioned and considered in the paper. The\n",
        "authors have included accurate lists of reports, journal articles and other works. From the\n",
        "introduction to the end of the report, the discussion flows logically and is related to the topic.\n",
        "\n",
        "However, when reading the abstract of the report, the reader would not know that there are four\n",
        "methods of facial recognition that will be discussed since the abstract only mentions the Eigenface\n",
        "and Fisherface method like in the title of the report. The authors involved an examination of the\n",
        "different methods throughout the report. An improvement to this article is to pick a better title so\n",
        "the reader will not get confused with the discussion of four facial recognition techniques not just\n",
        "the Eigenfaces and Fisherface method."
      ]
    },
    {
      "cell_type": "markdown",
      "metadata": {
        "id": "8ujhi3mCVfDR",
        "colab_type": "text"
      },
      "source": [
        "References:"
      ]
    }
  ]
}