{
  "nbformat": 4,
  "nbformat_minor": 0,
  "metadata": {
    "colab": {
      "name": "A1 First Report Draft 25/08/2019.ipynb",
      "version": "0.3.2",
      "provenance": [],
      "collapsed_sections": [],
      "include_colab_link": true
    },
    "kernelspec": {
      "name": "python3",
      "display_name": "Python 3"
    }
  },
  "cells": [
    {
      "cell_type": "markdown",
      "metadata": {
        "id": "view-in-github",
        "colab_type": "text"
      },
      "source": [
        "<a href=\"https://colab.research.google.com/github/osnapitstrix/UTS_ML2019_ID13205669/blob/master/A1_Second_Report_Draft_26_08_2019.ipynb\" target=\"_parent\"><img src=\"https://colab.research.google.com/assets/colab-badge.svg\" alt=\"Open In Colab\"/></a>"
      ]
    },
    {
      "cell_type": "code",
      "metadata": {
        "id": "60bEdraAUmE7",
        "colab_type": "code",
        "colab": {}
      },
      "source": [
        "\n",
        "August 11 2019: \n",
        "Draft and Experiment Area and First impression\n",
        "\n",
        "Review Report on \"Eigenfaces vs. Fisherfaces: Recognition Using Class Specific Linear Projection\"\n",
        "Introduction\n",
        "\n",
        "Content\n",
        "\n",
        "The research is about algorithms/methods for facial recognition. So far there has been discoveries under small variations in lighting, facial expression. This paper not only research including light variations but also direction and number of light sources by comparing two different methods: Eigenfaces and Fisherfaces method.\n",
        "The main problem in this paper is identifying each person in the test image when given a learning and test set.\n",
        "-The approach of the problem is to consider the image in a high dimensional space\n",
        "-the authors discovered that the Fisherface results were the best for facial recognition.\n",
        "-Linear Substpace is also good but is not the best mehtod for variation in facial expression.\n",
        "-Eigenface technique had more error rates for the Harvard and Yale databases.\n",
        "\n",
        "\n",
        "Innovation\n",
        "-The creative idea is that they want to representing images of an object under all possible illumination conditions. \n",
        "The authors supported their theory using \n",
        "-comparison of 4 methods for facial recognition under variation in lighting and facial expression\n",
        "-with this comparison, they use both Harvard and Yale database.\n",
        "-with these methods(Correlation, Principal Components Analysis, Lambertian, linear subspace, fisher's linear discriminant) they have provided advantages and disadvantages\n",
        "-once an equation is defined, explanations are given to understand what the symbols mean\n",
        "-provided experemental results using the two different datbases\n",
        "-provided diagrams to prove their results\n",
        "\n",
        "\n",
        "Technical quality\n",
        "The technical development of this paper is high quality. \n",
        "-they compared the 4 methods using not only the Harvard database but also the Yale datbase\n",
        "-the eigenface method uses PCA to align the data andd evaluate the mean to align each image\n",
        "-the fisherface uses fisher linear discriminant to reduce dimensionality => dimensionality is an unsupervised learning type = rtrending in data analytics\n",
        "-the fisherface and eigenmanned uses unsuperviseda nd supervised methods\n",
        "-the images were done in different experimental types (extrapolation, interpolation and leaving one out) => separated into 5 subset\n",
        "\n",
        "Application and X-factor\n",
        "I find the proposal in the paper promising because \n",
        "-there are interesting results witihin the two experiments\n",
        "-the authors also explained the benefits and consequences of the \n",
        "-facial recognition is common these days like the iPhone X without touchID\n",
        "=> it has numerous important application and is used in neuroscience, psuchology, machine learning , pattern reconition and computer vision\n",
        "-interesting because the fisherface method is an enhancement of the eigenface method => which means that it has the bas of eigenface method\n",
        "-improve the research by trying different kind of angle image to improve chances of reconising the face drastically\n",
        "\n",
        "                    \n",
        "Presentation\n",
        "The overall strucutre is clear. I found reading is easy and each section had a logical order. There was also pictures that were labelled to support the results and explanations in the report.\n",
        "                                     \n",
        "DRAFT PLAN 2: AUGUST 13 2019\n",
        "\n",
        "Review Report on \"Eigenfaces vs. Fisherfaces: Recognition Using Class Specific Linear Projection\"\n",
        "\n",
        "Content:\n",
        "The research is about algorithms/methods for facial recognition. So far there has been discoveries under small variations in lighting, facial expression. This paper not only research including light variations but also direction and number of light sources by comparing two different methods: Eigenfaces and Fisherfaces method.\n",
        "The main problem in this paper is identifying each person in the test image when given a learning and test set.\n",
        "-The approach of the problem is to consider the image in a high dimensional space\n",
        "-the authors discovered that the Fisherface results were the best for facial recognition.\n",
        "-Linear Substpace is also good but is not the best mehtod for variation in facial expression.\n",
        "-Eigenface technique had more error rates for the Harvard and Yale databases.\n",
        "\n",
        "Innovation:\n",
        "-Novelty: a new approach for face recognition—one that is insensitive to large variations in lighting and facial expressions. Yet, no claim is made about the relative performance of these algorithms on much larger databases.\n",
        "-The creative idea is that they want to representing images of an object under all possible illumination conditions. \n",
        "The authors supported their theory using \n",
        "-comparison of 4 methods for facial recognition under variation in lighting and facial expression\n",
        "-with this comparison, they use both Harvard and Yale database.\n",
        "-with these methods(Correlation, Principal Components Analysis, Lambertian, linear subspace, fisher's linear discriminant) they have provided advantages and disadvantages\n",
        "-once an equation is defined, explanations are given to understand what the symbols mean\n",
        "-provided experimental results using the two different databases\n",
        "-provided diagrams to prove their results\n",
        "\n",
        "Technical quality:\n",
        "The technical development of this paper is high quality.\n",
        "-Research design: non experimental with the 2 databases and comparison of the 4 methods => includes different conditions(lighting variables)\n",
        "-Validity and reliability: consistent => both database images were tested in the same light conditions\n",
        "-however the harvard database uses more images (330) compared to the Yale database with (160 images).\n",
        "-> this didn’t affect the fisherface method as they both contained lower error rates than the other 3 methods\n",
        "-the eigenface method uses PCA to align the data and evaluate the mean to align each image\n",
        "-the fisherface uses fisher linear discriminant to reduce dimensionality => dimensionality is an unsupervised learning type = trending in data analytics\n",
        "-the fisherface and eigenface uses unsupervised and supervised methods\n",
        "-the images were done in different experimental types (extrapolation, interpolation and leaving one out) => separated into 5 subset\n",
        "-article was published 1996 and was revised in 1997\n",
        "-high dependability => the researcher gives the reader sufficient information to determine  how dependable the researcher is => -The authors are qualified and are experts in this area especially David J. Kriegman who has written and research articles/papers on an object under variable illumination received awards and recognition.\n",
        "-researchers demonstrated how conclusions and interpretations have been reached and how they have been clearly derived from the data\n",
        "\n",
        "\n",
        "Application and X-factor:\n",
        "-Interesting: This observation of linear subspaces suggests a simple classification algorithm to recognize Lambertian surfaces—insensitive to a wide range of lighting conditions.\n",
        "-I find the proposal in the paper promising because \n",
        "-there are interesting results witihin the two experiments\n",
        "-the authors also explained the benefits and consequences of the \n",
        "-facial recognition is common these days like the iPhone X without touchID\n",
        "=> it has numerous important application and is used in neuroscience, psuchology, machine learning , pattern reconition and computer vision\n",
        "-interesting because the fisherface method is an enhancement of the eigenface method => which means that it has the bas of eigenface method\n",
        "-improve the research by trying different kind of angle image to improve chances of recognising the face drastically\n",
        "\n",
        "Presentation:\n",
        "-The overall structure is clear and grammatically correct.\n",
        "-discussion flows logically and related to the topic\n",
        "-There was also pictures that were labelled to support the results and explanations in the report.\n",
        "-strengths and limitations of findings are mentioned and considered in the paper\n",
        "-the authors have included accurate lists of reports, journal articles and other works\n",
        "-the authors involve an examination of the different methods in the conclusion\n",
        "-the authors present their findings under the headings of the various light conditions \n",
        "-tables, charts, graphs are used to summarise the results as well as enhance the presentation of the results\n",
        "=The literature review defines the research question of which is the best method for facial recognition under various conditions.\n",
        "-It demonstrates an appropriate of paragraphs explaining the the topic.\n",
        "-It includes historical and contemporary material => historical (starting with Robert Fisher who developed the Fisherface method in 1936)               "
      ],
      "execution_count": 0,
      "outputs": []
    },
    {
      "cell_type": "code",
      "metadata": {
        "id": "k1VhBXGF_QPi",
        "colab_type": "code",
        "colab": {}
      },
      "source": [
        ""
      ],
      "execution_count": 0,
      "outputs": []
    },
    {
      "cell_type": "markdown",
      "metadata": {
        "id": "RVeQEc0__VZq",
        "colab_type": "text"
      },
      "source": [
        "Review Report on \"Eigenfaces vs. Fisherfaces: Recognition Using Class Specific Linear Projection\"\n",
        "\n",
        "Introduction\n",
        "\n",
        "Facial recognition is regarded as an emerging technology in the image processing and recognition\n",
        "industry. There are various studies proposed over the last years for facial recognition, but there\n",
        "has not been a facial recognition method that shows the images set under all illumination\n",
        "conditions. ‘approaches, like eigenfaces, Fisherfaces and active appearance models, have\n",
        "become highly popular and laid out the foundations for a variety of commercial off-the-shelf\n",
        "systems’ (Monteiro and Cardoso 2015). Major companies are all using facial recognition methods,\n",
        "whether it be for security and surveillance or creating competitive advantage like Apple having it\n",
        "on their new devices to differentiate from other companies. This trending topic is also used in other\n",
        "areas of studies like machine learning, neuroscience, computer vision and psychology.\n",
        " \n",
        "The most common facial recognition methods are correlation due to the nearest neighbour, Linear\n",
        "Subspaces, Eigenfaces and Fisherfaces. Correlation is the ‘simplest classification scheme’ where\n",
        "distances are measured. Eigenface is a method that ‘linearly projects the image space to a low\n",
        "dimensional feature space’. Linear subspace is a method where a person can ‘simply compute the\n",
        "distance of a new image.. and choose the face corresponding to the shortest distance’. The\n",
        "Fisherface method is a classical pattern recognition technique used to ‘ ‘shape’ the scatter in order\n",
        "to make it more reliable for classification.’ (Belhumeur et al. 1996). \n",
        " \n",
        "This report presents a literature review of facial recognition methods in various conditions. The\n",
        "article selected for evaluation is &quot;Eigenfaces vs. Fisherfaces: Recognition Using Class Specific\n",
        "Linear Projection&quot; by Belhumeur et al. (1996). For each facial recognition method discussed,\n",
        "advantages and disadvantages have been stated to support the author’s conclusion on which is\n",
        "the best facial recognition method for the lighting conditions."
      ]
    },
    {
      "cell_type": "markdown",
      "metadata": {
        "id": "BujuBvsqAaew",
        "colab_type": "text"
      },
      "source": [
        "CONTENT\n",
        "\n",
        "‘Numerous algorithms have been proposed for facial recognition…recognition under more extreme\n",
        "variations have proven elusive.’ (Belhumeur et al. 1996). The paper involves research about\n",
        "algorithms and methods for facial recognition under various lighting conditions and facial\n",
        "expressions. The authors proposed that they have developed a new approach to facial recognition\n",
        "by including direction and light sources.\n",
        " \n",
        "The authors examined various types of facial recognition method using four pattern classification\n",
        "techniques, namely correlation to the nearest neighbour, linear subspaces, Eigenface and\n",
        "Fisherface. Moreover, they discussed the advantages and disadvantages of these methods in\n",
        "which they emphasised that the Fisherface facial recognition method is the best as it has error\n",
        "rates lower than any other facial recognition method.\n",
        " \n",
        "The image sample size is from the Harvard Robotics Laboratory and Yale Centre for\n",
        "Computational Vision and Control databases, which were used for different purposes. The\n",
        "Harvard Robotics Laboratory database was used to test the hypothesis of the facial recognition\n",
        "algorithms performing ‘better if they exploit the fact that images of a Lambertian surface lie in a\n",
        "linear subspace.’ (Belhumeur et al. 1996) in systematically varied lighting. For the Harvard sample,\n",
        "the images include the same facial expression and are taken with a ‘dominant light source…\n",
        "sampled in 15-degree increments’. (Belhumeur et al. 1996).\n",
        " \n",
        "On the other hand, the Yale Centre for Computational Vision and Control database was used to\n",
        "‘determine how the methods compared under a different range of conditions.’ For this sample\n",
        "dataset, the subjects had neutral facial expression lie the Harvard database, option of glasses or\n",
        "not and different facial expressions. The images were also taken with ‘different point light sources’.\n",
        " \n",
        "\n",
        "The article presents exciting results for both Harvard and Yale databases. The extrapolation\n",
        "experiment using the Harvard sample had a 0% error rate in subset 1 and lower error percentage\n",
        "when there is a higher number of reduced space, evidenced in Figure 5. The interpolation\n",
        "experiment shows no error rate for subset 1 and 5. Like the extrapolation experiment, the higher\n",
        "number of reduced space showed a lower error rate and Fisherface method was proven the best\n",
        "method with little to no error rate percentage. The Yale database, however, did not use the\n",
        "extrapolation and interpolation method and use a different method called “leaving-out-one”\n",
        "strategy."
      ]
    },
    {
      "cell_type": "markdown",
      "metadata": {
        "id": "Slu9L4hVVZfR",
        "colab_type": "text"
      },
      "source": [
        "INNOVATION\n",
        "\n",
        "Organisations today are motivated to improve facial recognition methods. Researchers are trying\n",
        "to find ways and solutions that can recognise an image in all situations encountered by users or\n",
        "businesses. However, there are many factors to consider like the variation in lighting, variation in\n",
        "expressions and angle of the photo. They are starting to create methods that combine biometrics\n",
        "with facial recognition. The facial recognition system results are significantly affected, whether it be\n",
        "a small or big change in lighting and expression, which makes it harder for researchers to develop\n",
        "the perfect solution for various situations.\n",
        " \n",
        "The novelty presented in the paper is the author’s new approach for facial recognition “one that is\n",
        "insensitive to large variations in lighting and facial expressions.”(Belhumeur et al. 1996). The\n",
        "paper contributes comparison of facial recognition methods such as the correlation of nearest\n",
        "neighbour classifier, linear subspace, Eigenface and Fisherface methods under variation in lighting\n",
        "and facial expression."
      ]
    },
    {
      "cell_type": "markdown",
      "metadata": {
        "id": "2zbHxCPwVaVt",
        "colab_type": "text"
      },
      "source": [
        "TECHNICAL QUALITY:\n",
        "\n",
        "&quot;Eigenfaces vs. Fisherfaces: Recognition Using Class Specific Linear Projection&quot; by Belhumeur et\n",
        "al. (2018) is an article for academia or the general public about facial recognition methods used.\n",
        "The authors are highly qualified experts in this area. Both Peter N, Belhumeur and David J.\n",
        "Kriegman received Best Paper Award for the written and research articles/papers on an object\n",
        "under variable illumination conditions.\n",
        " \n",
        "The research done in this paper is not up to date as it was published in 1997 in IEEE Transactions\n",
        "on Pattern Analysis and Machine Intelligence. However, this article has been cited 13612 times,\n",
        "meaning that other experts support this field of research. A recent article written by Anggo &amp;\n",
        "Arrapu (2018) referenced this article in their introduction and used it as the basis for their research\n",
        "in their report. The authors of this article not only used analysis from other reliable databases but\n",
        "have given the reader sufficient information on the topic.\n",
        " \n",
        "The authors give a reasonable overview of the paper and ensure that the topics mentioned in the\n",
        "abstract are addressed. To help explain the different methods, they have provided equations with\n",
        "explanations to give the reader an understanding of what these symbols mean. The authors use\n",
        "original research and labelled diagrams to explain the best facial recognition method under various\n",
        "light conditions and facial expressions. There are no apparent errors and omissions in the article.\n",
        "The discussions and conclusions made by these authors are consistent with the article’s results\n",
        "and are sufficiently detailed. Therefore, the technical quality of this paper is of high quality.\n"
      ]
    },
    {
      "cell_type": "markdown",
      "metadata": {
        "id": "jlO8xFRNVb5z",
        "colab_type": "text"
      },
      "source": [
        "APPLICATION AND X-FACTOR\n",
        "\n",
        "This literature review has shown that the use of different facial expressions and lighting tested with\n",
        "various facial recognition methods is an interesting research topic. Future research can involve\n",
        "testing of these algorithms on much larger databases and trying different angle to increase\n",
        "chances of recognising the face better. Other research could also include improving the Fisherface\n",
        "method since it showed the best results compared to the other facial recognition methods.\n",
        " \n",
        "\n",
        "The article uses the application domain of advanced image pattern recognition and machine\n",
        "intelligence, which are both trending topics for the data analytics industry. These techniques have\n",
        "numerous essential applications and are used in the neuroscience, psychology and computer\n",
        "vision industry. The authors have also expressed their interests in this topic by leaving questions\n",
        "for the reader in the conclusion of the paper, which makes the reader also curious or think if the\n",
        "question is actually possible."
      ]
    },
    {
      "cell_type": "markdown",
      "metadata": {
        "id": "A94JqE0ZVeD7",
        "colab_type": "text"
      },
      "source": [
        "PRESENTATION\n",
        "\n",
        "Overall the structure of the paper is clear and grammatically correct. The abstract of this article is\n",
        "informative. The literature review defines the research questions of which the best method for\n",
        "facial recognition under various angles and lighting conditions. The studies done on facial\n",
        "recognition methods are described clearly.\n",
        "The methodology of data collection is sound because the authors have presented in a logical\n",
        "order with proper headings of sections, explanations and diagrams to explain the different types of\n",
        "data security issues encountered. For each method, they provided their findings under the heading\n",
        "of the various lighting conditions, which made reading easier to follow. The strengths and\n",
        "weaknesses of each method were mentioned and considered in the paper.\n",
        "The analysis performed and interpreted was in an appropriate matter. The authors provided\n",
        "explanations of how the tests were conducted for each facial recognition method. With the results\n",
        "presented from the graphs and tables, the authors have provided a summary of the results in a list\n",
        "of interesting points. The authors have included accurate lists of reports, journal articles and other\n",
        "works. From the introduction to the end of the report, the discussion flows logically and is related\n",
        "to the topic.\n",
        " \n",
        "However, when reading the abstract of the report, the reader would not know that there are four\n",
        "methods of facial recognition that will be discussed since the abstract only mentions the Eigenface\n",
        "and Fisherface method like in the title of the report. The authors involved an examination of the\n",
        "different methods throughout the report. An improvement to this article is to pick a better title so\n",
        "the reader will not get confused with the discussion of four facial recognition techniques, not just\n",
        "the Eigenfaces and Fisherface method."
      ]
    },
    {
      "cell_type": "markdown",
      "metadata": {
        "id": "_Ge-JZ1ip1L3",
        "colab_type": "text"
      },
      "source": [
        "CONCLUSION:\n",
        "\n",
        "Belhumeur et al. (1997) have provided an article that is relevant to the topic as they provide detail\n",
        "on different facial recognition for various lighting conditions. The article is reliable as it was written\n",
        "by authors who are experts in image processing and recognition subject and have used reliable\n",
        "references to support what they are trying to convey. The article’s discussion was logical and\n",
        "flowed smoothly starting with a definition of the facial recognition methods. The article also helped\n",
        "the reader understand more about the various facial recognition methods. The authors have\n",
        "acknowledged the advantages and disadvantages of each facial recognition and have concluded\n",
        "that Fisherface is the best facial recognition method for both databases tested in the experiment\n",
        "compared to correlation, linear subspaces and Eigenface. The authors have also suggested\n",
        "research questions that can be answered for future study in the conclusion of the paper."
      ]
    },
    {
      "cell_type": "markdown",
      "metadata": {
        "id": "8ujhi3mCVfDR",
        "colab_type": "text"
      },
      "source": [
        "References:"
      ]
    }
  ]
}
