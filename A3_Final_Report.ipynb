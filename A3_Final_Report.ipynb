{
  "nbformat": 4,
  "nbformat_minor": 0,
  "metadata": {
    "colab": {
      "name": "A3 Final Report.ipynb",
      "provenance": [],
      "include_colab_link": true
    },
    "kernelspec": {
      "name": "python3",
      "display_name": "Python 3"
    }
  },
  "cells": [
    {
      "cell_type": "markdown",
      "metadata": {
        "id": "view-in-github",
        "colab_type": "text"
      },
      "source": [
        "<a href=\"https://colab.research.google.com/github/osnapitstrix/UTS_ML2019_ID13205669/blob/master/A3_Final_Report.ipynb\" target=\"_parent\"><img src=\"https://colab.research.google.com/assets/colab-badge.svg\" alt=\"Open In Colab\"/></a>"
      ]
    },
    {
      "cell_type": "markdown",
      "metadata": {
        "id": "G3nJP-4SzD1H",
        "colab_type": "text"
      },
      "source": [
        "# **INTRODUCTION**"
      ]
    },
    {
      "cell_type": "markdown",
      "metadata": {
        "id": "p9m6U-ZqzW05",
        "colab_type": "text"
      },
      "source": [
        "# **WHY IS THE PROBLEM HARD TO SOLVE?**"
      ]
    },
    {
      "cell_type": "markdown",
      "metadata": {
        "id": "VPfz1hLozGBH",
        "colab_type": "text"
      },
      "source": [
        "# **APPROACHES AND VALIDATION**\n",
        "\n",
        "Predictive analysis uses data mining, statistical and machine learning techniques to make predictions about unknown future events. “The data mining and text analytics along with statistics, allows the business users to create predictive intelligence by uncovering patterns and relationships in both the structured and unstructured data.” (Predictive Analytics Today). However, predictive analytics is just an estimate so it requires and continuous optimisation.\n",
        "\n",
        "To draw conclusion for predictive analytics for future events and if the tweet is viral, statistical analysis is required. “Statistical analysis is the study of the collection, organisation, analysis, interpretation and presentation of data.” The statistical data allows the data scientists or analysts to validate assumptions, hypotheses and test them with using standard statistical models(Predictive Analytics Today).\n",
        "\n",
        "The statistical analysis is decomposed into two main approaches:\n",
        "\n",
        "1.    Content Analysis:\n",
        "\n",
        "Content analysis is “a method for summarising any form of content by counting various aspects of the content”. It can be a quantitative method used to find occurrence of certain words, phrases and a qualitative method for analysing the meaning of relationship of words and concepts. “Researchers use content analysis to find the purpose, messages and effects of communication content” (Luo 2019). In Twitter, data scientists analyse tweets using factors such as Hashtags, URL and topic tweeted. There are two ways to validate the content analysis approach which are sentiment analysis and topic/trend analysis.\n",
        "\n",
        "A technique of content analysis is sentiment analysis which is also known as opinion mining and fine-grained analysis. “The fine-grained analysis is a tweet-level prediction for individual signals, such as sentiment and emotions, about an event that is being monitored.” Sentiment Analysis of Twitter Dataset has various applications like Business to assess customer feeling towards products, Politics to predict election results and Public Actions to predict dangerous situations. Sentiment analysis uses traditional dictionary-based classification including polarity and  strength to extract sentiment form text. Sentiment analysis classifies the tweets with three classes like positive, negative and neutral. With these classifications, the analyst can understand better what the users are feeling. It also uses methods like naïve Bayesian and support vector machines classification and natural language processing techniques to have more consistent and accurate results. Hashtags help categorise the tweet’s topics based on feelings. URL and emoticons in Twitter appear as top features on the accuracy of the model.\n",
        "\n",
        "The standard syntax of user mentions, retweets, replies and hashtags are used to identify trending topics. There are also other factors that affecting if the tweet is trending such as time series. Topic trend analysis uses several text mining techniques like stop word removal, stemming and topic modelling. Data analysts also uses supervised machine learning techniques such as support vector machine and naïve Bayesian classifier for automated text mining and unsupervised machine learning techniques such as k-means clustering.\n",
        "\n",
        "2.    Structural Analysis"
      ]
    },
    {
      "cell_type": "markdown",
      "metadata": {
        "id": "sknw_lfezd-0",
        "colab_type": "text"
      },
      "source": [
        "# **SOCIAL AND ETHICAL CONSIDERATIONS**"
      ]
    },
    {
      "cell_type": "markdown",
      "metadata": {
        "id": "ad_PH8uhzkuq",
        "colab_type": "text"
      },
      "source": [
        "# **CONCLUSION**"
      ]
    }
  ]
}